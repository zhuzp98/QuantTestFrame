{
 "cells": [
  {
   "cell_type": "code",
   "execution_count": null,
   "metadata": {},
   "outputs": [],
   "source": [
    "import config, csv\n",
    "from binance.client import Client\n",
    "\n",
    "client = Client(config.API_KEY, config.API_SECRET)\n",
    "\n",
    "dataStart = '1 Jan, 2021'\n",
    "dataEnd = '2 Jan, 2021'\n",
    "datafile = 'data/BTCUSDT-20210101-20210102-1m.csv'\n",
    "csvfile = open(datafile, 'w', newline='')\n",
    "candlestick_writer = csv.writer(csvfile, delimiter=',')\n",
    "\n",
    "candlesticks = client.get_historical_klines(\"BTCUSDT\", Client.KLINE_INTERVAL_1MINUTE, dataStart, dataEnd)\n",
    "\n",
    "for candlestick in candlesticks:\n",
    "    candlestick[0] = candlestick[0] / 1000 # divide timestamp to ignore miliseconds\n",
    "    candlestick_writer.writerow(candlestick)\n",
    "\n",
    "csvfile.close()\n",
    "\n",
    "print(datafile, len(candlesticks))"
   ]
  }
 ],
 "metadata": {
  "kernelspec": {
   "display_name": "Backtrader",
   "language": "python",
   "name": "python3"
  },
  "language_info": {
   "name": "python",
   "version": "3.11.7"
  }
 },
 "nbformat": 4,
 "nbformat_minor": 2
}
